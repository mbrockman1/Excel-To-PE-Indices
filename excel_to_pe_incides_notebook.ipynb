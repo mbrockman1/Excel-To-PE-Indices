{
 "cells": [
  {
   "cell_type": "code",
   "execution_count": null,
   "id": "a2d7b660",
   "metadata": {},
   "outputs": [],
   "source": [
    "import pandas as pd\n",
    "from pe_funcs.pe_indices_funcs import *"
   ]
  },
  {
   "cell_type": "code",
   "execution_count": null,
   "id": "c6ac176c",
   "metadata": {},
   "outputs": [],
   "source": []
  },
  {
   "cell_type": "code",
   "execution_count": null,
   "id": "8990c1f9",
   "metadata": {},
   "outputs": [],
   "source": [
    "INPUT_FILE = '' #place input xlsx file"
   ]
  },
  {
   "cell_type": "code",
   "execution_count": null,
   "id": "e757d805",
   "metadata": {},
   "outputs": [],
   "source": [
    "df = pd.read_excel(INPUT_FILE)"
   ]
  },
  {
   "cell_type": "code",
   "execution_count": null,
   "id": "a9dc0b94-a113-48a5-a8fe-6d7d1b8d182c",
   "metadata": {},
   "outputs": [],
   "source": [
    "df.columns\n",
    "df.columns = ['MRN', 'Age', 'Sex', 'Cancer', 'CHF_COPD', 'HR', 'SBP', 'RR', 'Temp', 'SpO2', 'TnI', 'RV function']"
   ]
  },
  {
   "cell_type": "code",
   "execution_count": null,
   "id": "35ae2d0a",
   "metadata": {},
   "outputs": [],
   "source": []
  },
  {
   "cell_type": "code",
   "execution_count": null,
   "id": "8e7a2098",
   "metadata": {},
   "outputs": [],
   "source": [
    "df.index_col = 'MRN'"
   ]
  },
  {
   "cell_type": "code",
   "execution_count": null,
   "id": "68a6b853",
   "metadata": {},
   "outputs": [],
   "source": [
    "pesi_list = [pesi_score(y) for x, y in df.iterrows()]\n",
    "    \n",
    "spesi_list = [simple_pesi_score(y) for x, y in df.iterrows()]\n",
    "\n",
    "esc_list = [esc_score(y) for x, y in df.iterrows()]\n",
    "\n",
    "bova_list = [bova_score(y) for x, y in df.iterrows()]"
   ]
  },
  {
   "cell_type": "code",
   "execution_count": null,
   "id": "076bb6b5",
   "metadata": {},
   "outputs": [],
   "source": [
    "df['PESI'] = pesi_list"
   ]
  },
  {
   "cell_type": "code",
   "execution_count": null,
   "id": "4d685491",
   "metadata": {},
   "outputs": [],
   "source": [
    "df['simple PESI'] = spesi_list"
   ]
  },
  {
   "cell_type": "code",
   "execution_count": null,
   "id": "33f695e7",
   "metadata": {},
   "outputs": [],
   "source": [
    "df['ESC 2019'] = esc_list"
   ]
  },
  {
   "cell_type": "code",
   "execution_count": null,
   "id": "0e1444db",
   "metadata": {},
   "outputs": [],
   "source": [
    "df['BOVA'] = bova_list"
   ]
  },
  {
   "cell_type": "code",
   "execution_count": null,
   "id": "8c726215",
   "metadata": {},
   "outputs": [],
   "source": [
    "df.to_excel('./updated_data.xlsx')"
   ]
  },
  {
   "cell_type": "code",
   "execution_count": null,
   "id": "2a8ea8bd",
   "metadata": {},
   "outputs": [],
   "source": []
  }
 ],
 "metadata": {
  "kernelspec": {
   "display_name": "Python 3 (ipykernel)",
   "language": "python",
   "name": "python3"
  },
  "language_info": {
   "codemirror_mode": {
    "name": "ipython",
    "version": 3
   },
   "file_extension": ".py",
   "mimetype": "text/x-python",
   "name": "python",
   "nbconvert_exporter": "python",
   "pygments_lexer": "ipython3",
   "version": "3.10.13"
  }
 },
 "nbformat": 4,
 "nbformat_minor": 5
}
